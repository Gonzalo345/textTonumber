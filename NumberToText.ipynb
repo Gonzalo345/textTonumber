from functools import reduce
from io import open
import re
# Ruta donde crearemos el fichero, w indica escritura (puntero al principio)
#fichero = open('workfile.txt','w')  
fichero = open('workfile.txt','r') 
mensaje = fichero.read()
print(mensaje)
print('\n\nComienzo del procesamiento')

number = re.findall(r"\w+", mensaje, re.MULTILINE)
#for w in number:
    #print(w)
    #print (chr(w)) #Valor que me da
a = '23'
b = int(a)
print(chr(a))
#print(matches)
#xx = "guru99,education is fun"
#r1 = re.findall(r"^\w+",xx)
#print(r1)
#fichero.seek(0)   # Puntero al principio
#mensaje = fichero.read(2)  # Leemos  carácteres
#print(mensaje)

fichero.close()
